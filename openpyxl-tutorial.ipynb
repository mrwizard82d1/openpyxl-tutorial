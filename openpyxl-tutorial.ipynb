{
 "cells": [
  {
   "cell_type": "markdown",
   "id": "3b02b78d-7716-4256-b4a9-de013afb3fde",
   "metadata": {},
   "source": [
    "# Tutorial for `openpyxl`"
   ]
  },
  {
   "cell_type": "markdown",
   "id": "1fe61a04-1703-4a81-9f25-8076432901a3",
   "metadata": {},
   "source": [
    "## Create a workbook"
   ]
  },
  {
   "cell_type": "code",
   "execution_count": null,
   "id": "6a7274d8-ad1b-461b-9173-4b537c113205",
   "metadata": {},
   "outputs": [],
   "source": [
    "# Import the library\n",
    "import openpyxl"
   ]
  },
  {
   "cell_type": "markdown",
   "id": "1b3068ba-515d-4470-b7b4-bd01f8566fd9",
   "metadata": {},
   "source": [
    "Create an empty Excel workbook"
   ]
  },
  {
   "cell_type": "code",
   "execution_count": null,
   "id": "96877666-4895-477b-8bfe-63b9d6dc0c4e",
   "metadata": {},
   "outputs": [],
   "source": [
    "wb = openpyxl.Workbook()\n",
    "wb"
   ]
  },
  {
   "cell_type": "markdown",
   "id": "ab3e488d-53f2-40bc-8b1c-afe73138d3a7",
   "metadata": {},
   "source": [
    "A workbook is always created with at least one worksheet. \n",
    "One can retrieve the active worksheet using the `active` property."
   ]
  },
  {
   "cell_type": "code",
   "execution_count": null,
   "id": "dcf859fe-449b-4dde-b881-4afecc5125b2",
   "metadata": {},
   "outputs": [],
   "source": [
    "ws = wb.active\n",
    "ws"
   ]
  },
  {
   "cell_type": "markdown",
   "id": "bf5c7f44-4a98-4d2b-9bbd-c539f1c46207",
   "metadata": {},
   "source": [
    "By default, `active` retrieves sheet 0 (that is,\n",
    "the first worksheet). Unless one modifies its \n",
    "value, this property will **always** return the\n",
    "first worksheet in the workbook."
   ]
  },
  {
   "cell_type": "markdown",
   "id": "f28943ad-d5f4-433a-a10b-ac9c121f6990",
   "metadata": {},
   "source": [
    "One creates worksheets using the `Workbook.create_sheet()` method."
   ]
  },
  {
   "cell_type": "code",
   "execution_count": null,
   "id": "aaaee754-7685-4f33-9a9d-d22a4b86cef4",
   "metadata": {},
   "outputs": [],
   "source": [
    "ws1 = wb.create_sheet(\"MyLastSheet\")  # inserts at the end (the default).\n",
    "ws1"
   ]
  },
  {
   "cell_type": "markdown",
   "id": "3ed1e2d6-54c0-4656-9d80-86abe3ec8675",
   "metadata": {},
   "source": [
    "By supplying an optional, second, `index` argument, one can \n",
    "create the new worksheet at the `index` position in the workbook."
   ]
  },
  {
   "cell_type": "code",
   "execution_count": null,
   "id": "7823dbd7-81b0-4b6d-af61-9dc254846c3c",
   "metadata": {},
   "outputs": [],
   "source": [
    "ws2 = wb.create_sheet(\"MyZerothSheet\", 0)\n",
    "ws2"
   ]
  },
  {
   "cell_type": "markdown",
   "id": "6fcff16f-a330-4352-bef6-c928bb9d5c03",
   "metadata": {},
   "source": [
    "One can also supply **negative** indices to insert a worksheet \n",
    "at the penultimate (next to last) position."
   ]
  },
  {
   "cell_type": "code",
   "execution_count": null,
   "id": "03da5680-f620-496e-8c57-e1f37ccc74cd",
   "metadata": {},
   "outputs": [],
   "source": [
    "ws3 = wb.create_sheet(\"MyPenultimateSheet\", -1)\n",
    "ws3"
   ]
  },
  {
   "cell_type": "markdown",
   "id": "ef75efe0-4212-4032-8712-354a84b8957c",
   "metadata": {},
   "source": [
    "What about -2?"
   ]
  },
  {
   "cell_type": "code",
   "execution_count": null,
   "id": "346d8e8b-baac-4afd-ae0e-497c9889aa24",
   "metadata": {},
   "outputs": [],
   "source": [
    "ws4 = wb.create_sheet(\"MyAntePenultimateSheet\", -2)\n",
    "ws4"
   ]
  },
  {
   "cell_type": "markdown",
   "id": "55c61f95-9577-4f2d-a62c-03f1be06bf6d",
   "metadata": {},
   "source": [
    "Sheets are given names automatically when they are created.\n",
    "By default, the names are sequentially numbered with the\n",
    "\"sheet number\" appended to the generic name `Sheet`. For\n",
    "example, if one simply creates a number of sheets, they\n",
    "are named:\n",
    "\n",
    "- `Sheet1`\n",
    "- `Sheet2`\n",
    "- `Sheet3`\n",
    "\n",
    "And so on"
   ]
  },
  {
   "cell_type": "markdown",
   "id": "13f8b8f5-0cb0-4916-a9e7-0eff6b31b633",
   "metadata": {},
   "source": [
    "One can change the name of a sheet at any time \n",
    "by setting the `Worksheet.title` property."
   ]
  },
  {
   "cell_type": "code",
   "execution_count": null,
   "id": "f21a259a-e07a-4e43-b0d3-121289c79b12",
   "metadata": {},
   "outputs": [],
   "source": [
    "ws.title = 'New Title'"
   ]
  },
  {
   "cell_type": "markdown",
   "id": "3d1546df-9b58-4d6e-90e4-263537933c00",
   "metadata": {},
   "source": [
    "One one gives a worksheet a name, one can access this sheet\n",
    "by supplying it as a key to the workbook itself."
   ]
  },
  {
   "cell_type": "code",
   "execution_count": null,
   "id": "991dbf7b-bf65-462a-8a97-ffe4b026d84d",
   "metadata": {},
   "outputs": [],
   "source": [
    "ws5 = wb['New Title']\n",
    "ws5"
   ]
  },
  {
   "cell_type": "markdown",
   "id": "ef434fc8-8e85-4b9d-92ce-df3dd88cd324",
   "metadata": {},
   "source": [
    "One can get the names of all worksheets by using\n",
    "the `sheetnames` property."
   ]
  },
  {
   "cell_type": "code",
   "execution_count": null,
   "id": "2ddcb94b-7497-4cdb-b92d-352464d4fdd9",
   "metadata": {},
   "outputs": [],
   "source": [
    "print(wb.sheetnames)"
   ]
  },
  {
   "cell_type": "markdown",
   "id": "4f3efc39-d52e-416b-b3cf-e1c23bf3b7c6",
   "metadata": {},
   "source": [
    "One can loop through all worksheets in a workbook"
   ]
  },
  {
   "cell_type": "code",
   "execution_count": null,
   "id": "546c818a-0e1d-4b5a-9e3c-4dee1f11c47b",
   "metadata": {},
   "outputs": [],
   "source": [
    "for sheet in wb:\n",
    "    print(sheet.title)"
   ]
  },
  {
   "cell_type": "markdown",
   "id": "03503c06-8ed8-4f7c-850d-9c523891eff4",
   "metadata": {},
   "source": [
    "One can create copies of worksheets **within a single workbook**."
   ]
  },
  {
   "cell_type": "code",
   "execution_count": null,
   "id": "cf1a2e06-c67f-46b8-bc9c-f810a9baa8dc",
   "metadata": {},
   "outputs": [],
   "source": [
    "wb.active"
   ]
  },
  {
   "cell_type": "code",
   "execution_count": null,
   "id": "36321e11-8156-427a-8ce8-fcfb52bbc435",
   "metadata": {},
   "outputs": [],
   "source": [
    "source = wb.active\n",
    "target = wb.copy_worksheet(source)\n",
    "target"
   ]
  },
  {
   "cell_type": "markdown",
   "id": "a1793d6d-822a-4630-968d-293de5933331",
   "metadata": {},
   "source": [
    "_Note_\n",
    "\n",
    "Only cells (including values, styles, hyperlinks and comments)\n",
    "and certain worksheet attributes (including dimensions, format and\n",
    "properties) are copied. All other workbook / workbook attributes\n",
    "are **not** copied (for example, Images and Charts).\n",
    "\n",
    "One also **cannot** copy worksheets between workbooks. Finally,\n",
    "one **cannot** copy a worksheet if the workbook is open in:\n",
    "\n",
    "- _read-write_\n",
    "- _write-only_\n",
    "\n",
    "mode."
   ]
  },
  {
   "cell_type": "markdown",
   "id": "7efedf40-074d-4d62-8322-7448aa8a3ce9",
   "metadata": {},
   "source": [
    "## Playing with data"
   ]
  },
  {
   "cell_type": "markdown",
   "id": "a06c18c2-3e68-4178-8432-0a0f2df3aafb",
   "metadata": {},
   "source": [
    "### Accessing one cell"
   ]
  },
  {
   "cell_type": "markdown",
   "id": "16da720a-66d8-49be-a495-f2aef3ce28cd",
   "metadata": {},
   "source": [
    "Cells can be accessed directory as keys of the **worksheet**."
   ]
  },
  {
   "cell_type": "code",
   "execution_count": null,
   "id": "aa5d229c-41e6-4ea0-a69d-d72eeb2f7dc6",
   "metadata": {},
   "outputs": [],
   "source": [
    "ws['A4'] = 4"
   ]
  },
  {
   "cell_type": "markdown",
   "id": "eda3ff12-926d-4f6d-a168-a173630a0a2f",
   "metadata": {},
   "source": [
    "The `Worksheet.cell()` method provides access to worksheet\n",
    "rows and columns separately."
   ]
  },
  {
   "cell_type": "code",
   "execution_count": null,
   "id": "84352a9f-c389-4be8-918b-af189ea4ffb9",
   "metadata": {},
   "outputs": [],
   "source": [
    "d = ws.cell(row=4, column=2, value=10) # AKA cell 'B4'\n",
    "d"
   ]
  },
  {
   "cell_type": "code",
   "execution_count": null,
   "id": "c34f8296-8706-4c27-90a9-f9efd2e5d1e8",
   "metadata": {},
   "outputs": [],
   "source": [
    "d.value"
   ]
  },
  {
   "cell_type": "markdown",
   "id": "82b42155-10ad-4b01-85fc-08a41739f276",
   "metadata": {},
   "source": [
    "_Note_\n",
    "\n",
    "When a worksheet is first created in memory it contains **no** cells.\n",
    "Cells are created **when first accessed**."
   ]
  },
  {
   "cell_type": "markdown",
   "id": "690b6812-6d78-4cfc-b966-af8c08022b97",
   "metadata": {},
   "source": [
    "**Warning**\n",
    "\n",
    "Because cells are not created initially, scrolling through cells \n",
    "instead of access them directly **will create them** in memory\n",
    "even if one **does not** assign them a value.\n",
    "\n",
    "Something like:\n",
    "\n",
    "<code>\n",
    "    for x in range(1, 101):\n",
    "        for y in range(1, 101):\n",
    "            ws.cell(row=x, column=y)\n",
    "</code>\n",
    "\n",
    "<br/>\n",
    "will create 100x100 cells in memory (effectively for nothing)."
   ]
  },
  {
   "cell_type": "markdown",
   "id": "4f82af59-2084-427d-bd2c-0196c52ebe68",
   "metadata": {},
   "source": [
    "### Accessing many cells"
   ]
  },
  {
   "cell_type": "markdown",
   "id": "c4c38014-53bb-4503-b22c-2938323b60e4",
   "metadata": {},
   "source": [
    "Ranges of cells can be accessed using slicing:"
   ]
  },
  {
   "cell_type": "code",
   "execution_count": null,
   "id": "81f2ad5d-cac7-4312-9f81-4f2243217e17",
   "metadata": {},
   "outputs": [],
   "source": [
    "cell_range = ws['a1':'c2']\n",
    "cell_range"
   ]
  },
  {
   "cell_type": "markdown",
   "id": "91ada5f5-1a6b-45da-ac00-de10c055b26b",
   "metadata": {},
   "source": [
    "Ranges of rows or columns can be obtained similarly."
   ]
  },
  {
   "cell_type": "code",
   "execution_count": null,
   "id": "a49fceb1-5e13-4862-ab0a-212216158f01",
   "metadata": {},
   "outputs": [],
   "source": [
    "colC = ws['C'] # all of column 'C'\n",
    "colC"
   ]
  },
  {
   "cell_type": "code",
   "execution_count": null,
   "id": "3b06304d-a70b-4c78-917d-755298478f11",
   "metadata": {},
   "outputs": [],
   "source": [
    "col_range = ws['C:D'] # all of columns 'C' and 'D', inclusive\n",
    "col_range"
   ]
  },
  {
   "cell_type": "markdown",
   "id": "e3af53d7-ae38-4441-b6db-f164ca3819cd",
   "metadata": {},
   "source": [
    "Notice that the range 'C:D' **includes** the\n",
    "ending column, 'D', unlike typical Python ranges."
   ]
  },
  {
   "cell_type": "code",
   "execution_count": null,
   "id": "737918c7-dbab-4f1d-82e5-6806a19e78fa",
   "metadata": {},
   "outputs": [],
   "source": [
    "row10 = ws[10] # all of row 10\n",
    "row10"
   ]
  },
  {
   "cell_type": "code",
   "execution_count": null,
   "id": "ce0239ab-06a7-4c0c-8709-2e65cdec866b",
   "metadata": {},
   "outputs": [],
   "source": [
    "row_range = ws[5:10] # all of rows 5-10, inclusive\n",
    "row_range"
   ]
  },
  {
   "cell_type": "markdown",
   "id": "b995f4e9-d8b3-4769-9616-958ed70647ab",
   "metadata": {},
   "source": [
    "Again, notice that the expression `ws[5:10]` includes\n",
    "the row with the ending index, 10, unlike a typical\n",
    "Python range."
   ]
  },
  {
   "cell_type": "markdown",
   "id": "e252da54-a8e0-49b1-ac99-f2ef9422d9a6",
   "metadata": {},
   "source": [
    "The method, `Worksheet.iter_rows()`, iterates all the\n",
    "cells from `min_row` to and including `max_row`. By\n",
    "default, the `min_col` is 0 (effectively, column 'A'."
   ]
  },
  {
   "cell_type": "code",
   "execution_count": null,
   "id": "72c1f640-8f62-4dcd-b066-ba13cceb84da",
   "metadata": {},
   "outputs": [],
   "source": [
    "for row in ws.iter_rows(min_row=1, max_col=3, max_row=2):\n",
    "    for cell in row:\n",
    "        print(cell)"
   ]
  },
  {
   "cell_type": "markdown",
   "id": "89d8fb32-2558-4b9d-a134-41fd282b2a08",
   "metadata": {},
   "source": [
    "Similarly, the `Worksheet.iter_cols()` method iterates over\n",
    "sheet columns."
   ]
  },
  {
   "cell_type": "code",
   "execution_count": null,
   "id": "88fde5d8-6040-44d1-b970-cd6d8b65520b",
   "metadata": {},
   "outputs": [],
   "source": [
    "for col in ws.iter_cols(min_row=1, max_col=3, max_row=2):\n",
    "    for cell in col:\n",
    "        print(cell)"
   ]
  },
  {
   "cell_type": "markdown",
   "id": "a4e9e3b5-f4f1-4de5-bb42-15cbc64a80bd",
   "metadata": {},
   "source": [
    "_Note_\n",
    "\n",
    "For performance reasons, the `Worksheet.iter_cols()` method\n",
    "is **not** available in _read-only_ mode."
   ]
  },
  {
   "cell_type": "markdown",
   "id": "6fa295c9-7eed-474f-8719-a41c9150eeb9",
   "metadata": {},
   "source": [
    "If you need to iterate through all the rows of a sheet,\n",
    "you can use the `Worksheet.rows` property."
   ]
  },
  {
   "cell_type": "code",
   "execution_count": null,
   "id": "341f29ee-5d81-4948-886f-65c6511bfdcc",
   "metadata": {},
   "outputs": [],
   "source": [
    "ws = wb.active\n",
    "ws['C9'] = 'hello world' # initializes columns A-C and rows 0-9\n",
    "tuple(ws.rows)"
   ]
  },
  {
   "cell_type": "markdown",
   "id": "7674e64b-125e-426f-9f4f-44b29e3f104d",
   "metadata": {},
   "source": [
    "The `Worksheet.columns` property provides similar access to \n",
    "worksheet columns.n"
   ]
  },
  {
   "cell_type": "code",
   "execution_count": null,
   "id": "a5ec5a97-46f1-466d-8f51-5f4cff5f435e",
   "metadata": {},
   "outputs": [],
   "source": [
    "tuple(ws.columns)"
   ]
  },
  {
   "cell_type": "markdown",
   "id": "b38867bb-8bc7-4719-93a4-fcda95cdf68c",
   "metadata": {},
   "source": [
    "Again, for performance reasons, the `Worksheet.columns` property\n",
    "is **not** available in _read-only_ mode."
   ]
  },
  {
   "cell_type": "markdown",
   "id": "e031e181-709d-4a6a-a70f-d145da818fbc",
   "metadata": {},
   "source": [
    "Although the author does not state this concern, I would \n",
    "caution use of reading all rows or all cells of a large\n",
    "worksheet.\n",
    "\n",
    "Of course, I could be wrong. :)"
   ]
  },
  {
   "cell_type": "markdown",
   "id": "be3133c1-5aec-44d4-ae80-ad47fac0a750",
   "metadata": {},
   "source": [
    "### Values only"
   ]
  },
  {
   "cell_type": "markdown",
   "id": "e3d85053-8feb-4138-8e09-53e8956ab820",
   "metadata": {},
   "source": [
    "If one is just interested in the worksheet **values**,\n",
    "one can use the `Worksheet.values` property. For example:"
   ]
  },
  {
   "cell_type": "code",
   "execution_count": null,
   "id": "c2da91c5-4383-4795-972e-e298fafecf34",
   "metadata": {},
   "outputs": [],
   "source": [
    "for row in ws.values:\n",
    "    print(row)"
   ]
  },
  {
   "cell_type": "code",
   "execution_count": null,
   "id": "4f850067-aecb-4fc9-a482-61a5448378ab",
   "metadata": {},
   "outputs": [],
   "source": [
    "for row in ws.values:\n",
    "    for value in row:\n",
    "        print(value)"
   ]
  },
  {
   "cell_type": "markdown",
   "id": "b53ca3cb-4357-465c-b190-c7fe2a5fffc4",
   "metadata": {},
   "source": [
    "As an alternative, both `Worksheet.iter_rows()` and\n",
    "`Worksheet.iter_cols()` will return only the values\n",
    "if one supplies the argument, `values_only=True`.\n",
    "\n",
    "For example:"
   ]
  },
  {
   "cell_type": "code",
   "execution_count": null,
   "id": "8186780b-6e5e-498c-8dcf-8df9c5972823",
   "metadata": {},
   "outputs": [],
   "source": [
    "for row in ws.iter_rows(min_row=1, max_col=3,\n",
    "                        max_row=2, values_only=True):\n",
    "    print(row)"
   ]
  },
  {
   "cell_type": "code",
   "execution_count": null,
   "id": "ef62b334-fcb0-4508-8f92-eded5d7148ed",
   "metadata": {},
   "outputs": [],
   "source": []
  }
 ],
 "metadata": {
  "kernelspec": {
   "display_name": "Python 3 (ipykernel)",
   "language": "python",
   "name": "python3"
  },
  "language_info": {
   "codemirror_mode": {
    "name": "ipython",
    "version": 3
   },
   "file_extension": ".py",
   "mimetype": "text/x-python",
   "name": "python",
   "nbconvert_exporter": "python",
   "pygments_lexer": "ipython3",
   "version": "3.12.3"
  }
 },
 "nbformat": 4,
 "nbformat_minor": 5
}
