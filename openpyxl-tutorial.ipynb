{
 "cells": [
  {
   "cell_type": "markdown",
   "id": "3b02b78d-7716-4256-b4a9-de013afb3fde",
   "metadata": {},
   "source": [
    "# Tutorial for `openpyxl`"
   ]
  },
  {
   "cell_type": "code",
   "execution_count": null,
   "id": "6a7274d8-ad1b-461b-9173-4b537c113205",
   "metadata": {},
   "outputs": [],
   "source": [
    "# Import the library\n",
    "import openpyxl"
   ]
  },
  {
   "cell_type": "markdown",
   "id": "1b3068ba-515d-4470-b7b4-bd01f8566fd9",
   "metadata": {},
   "source": [
    "Create an empty Excel workbook"
   ]
  },
  {
   "cell_type": "code",
   "execution_count": null,
   "id": "96877666-4895-477b-8bfe-63b9d6dc0c4e",
   "metadata": {},
   "outputs": [],
   "source": [
    "wb = openpyxl.Workbook()\n",
    "wb"
   ]
  },
  {
   "cell_type": "markdown",
   "id": "ab3e488d-53f2-40bc-8b1c-afe73138d3a7",
   "metadata": {},
   "source": [
    "A workbook is always created with at least one worksheet. \n",
    "One can retrieve the active worksheet using the `active` property."
   ]
  },
  {
   "cell_type": "code",
   "execution_count": null,
   "id": "dcf859fe-449b-4dde-b881-4afecc5125b2",
   "metadata": {},
   "outputs": [],
   "source": [
    "ws = wb.active\n",
    "ws"
   ]
  },
  {
   "cell_type": "markdown",
   "id": "bf5c7f44-4a98-4d2b-9bbd-c539f1c46207",
   "metadata": {},
   "source": [
    "By default, `active` retrieves sheet 0 (that is,\n",
    "the first worksheet). Unless one modifies its \n",
    "value, this property will **always** return the\n",
    "first worksheet in the workbook."
   ]
  },
  {
   "cell_type": "markdown",
   "id": "f28943ad-d5f4-433a-a10b-ac9c121f6990",
   "metadata": {},
   "source": [
    "One creates worksheets using the `Workbook.create_sheet()` method."
   ]
  },
  {
   "cell_type": "code",
   "execution_count": null,
   "id": "aaaee754-7685-4f33-9a9d-d22a4b86cef4",
   "metadata": {},
   "outputs": [],
   "source": [
    "ws1 = wb.create_sheet(\"MyLastSheet\")  # inserts at the end (the default).\n",
    "ws1"
   ]
  },
  {
   "cell_type": "markdown",
   "id": "3ed1e2d6-54c0-4656-9d80-86abe3ec8675",
   "metadata": {},
   "source": [
    "By supplying an optional, second, `index` argument, one can \n",
    "create the new worksheet at the `index` position in the workbook."
   ]
  },
  {
   "cell_type": "code",
   "execution_count": null,
   "id": "7823dbd7-81b0-4b6d-af61-9dc254846c3c",
   "metadata": {},
   "outputs": [],
   "source": [
    "ws2 = wb.create_sheet(\"MyZerothSheet\", 0)\n",
    "ws2"
   ]
  },
  {
   "cell_type": "markdown",
   "id": "6fcff16f-a330-4352-bef6-c928bb9d5c03",
   "metadata": {},
   "source": [
    "One can also supply **negative** indices to insert a worksheet \n",
    "at the penultimate (next to last) position."
   ]
  },
  {
   "cell_type": "code",
   "execution_count": null,
   "id": "03da5680-f620-496e-8c57-e1f37ccc74cd",
   "metadata": {},
   "outputs": [],
   "source": [
    "ws3 = wb.create_sheet(\"MyPenultimateSheet\", -1)\n",
    "ws3"
   ]
  },
  {
   "cell_type": "markdown",
   "id": "ef75efe0-4212-4032-8712-354a84b8957c",
   "metadata": {},
   "source": [
    "What about -2?"
   ]
  },
  {
   "cell_type": "code",
   "execution_count": null,
   "id": "346d8e8b-baac-4afd-ae0e-497c9889aa24",
   "metadata": {},
   "outputs": [],
   "source": [
    "ws4 = wb.create_sheet(\"MyAntePenultimateSheet\", -2)\n",
    "ws4"
   ]
  },
  {
   "cell_type": "code",
   "execution_count": null,
   "id": "cdba0671-3062-4f95-b205-ee5b1e701ac3",
   "metadata": {},
   "outputs": [],
   "source": [
    "wb.save('balances.xlsx')"
   ]
  },
  {
   "cell_type": "code",
   "execution_count": null,
   "id": "606c7f11-76d5-4475-99f6-c322d73065a0",
   "metadata": {},
   "outputs": [],
   "source": []
  }
 ],
 "metadata": {
  "kernelspec": {
   "display_name": "Python 3 (ipykernel)",
   "language": "python",
   "name": "python3"
  },
  "language_info": {
   "codemirror_mode": {
    "name": "ipython",
    "version": 3
   },
   "file_extension": ".py",
   "mimetype": "text/x-python",
   "name": "python",
   "nbconvert_exporter": "python",
   "pygments_lexer": "ipython3",
   "version": "3.12.3"
  }
 },
 "nbformat": 4,
 "nbformat_minor": 5
}
